{
 "metadata": {
  "language_info": {
   "codemirror_mode": {
    "name": "ipython",
    "version": 3
   },
   "file_extension": ".py",
   "mimetype": "text/x-python",
   "name": "python",
   "nbconvert_exporter": "python",
   "pygments_lexer": "ipython3",
   "version": "3.9.2"
  },
  "orig_nbformat": 2,
  "kernelspec": {
   "name": "python392jvsc74a57bd033dc6d49505b4536b6a128d9d7c879e1fa44477ad44947bbbe73093067fe6393",
   "display_name": "Python 3.9.2 64-bit"
  },
  "metadata": {
   "interpreter": {
    "hash": "33dc6d49505b4536b6a128d9d7c879e1fa44477ad44947bbbe73093067fe6393"
   }
  }
 },
 "nbformat": 4,
 "nbformat_minor": 2,
 "cells": [
  {
   "source": [
    "Importing std libs"
   ],
   "cell_type": "markdown",
   "metadata": {}
  },
  {
   "cell_type": "code",
   "execution_count": 1,
   "metadata": {},
   "outputs": [],
   "source": [
    "import math\n",
    "import numpy as np\n",
    "import itertools"
   ]
  },
  {
   "cell_type": "code",
   "execution_count": 2,
   "metadata": {},
   "outputs": [],
   "source": [
    "def facialRatio(points):\n",
    "    x1 = points[0]\n",
    "    y1 = points[1]\n",
    "    x2 = points[2]\n",
    "    y2 = points[3]\n",
    "    x3 = points[4]\n",
    "    y3 = points[5]\n",
    "    x4 = points[6]\n",
    "    y4 = points[7]\n",
    "\n",
    "    dist1 =math.sqrt((x1-x2)**2 + (y1-y2)**2)\n",
    "    dist2 =math.sqrt((x3-x4)**2 + (y3-y4)**2)\n",
    "\n",
    "    ratio = dist1/dist2\n",
    "\n",
    "    return ratio"
   ]
  },
  {
   "cell_type": "code",
   "execution_count": 3,
   "metadata": {},
   "outputs": [],
   "source": [
    "def generateFeatures(pointIndices1, pointIndices2, pointIndices3, pointIndices4, allLandmarkCoordinates):\n",
    "    size = allLandmarkCoordinates.shape\n",
    "    allFeatures = np.zeros((size[0], len(pointIndices1)))\n",
    "    for x in range(0, size[0]):\n",
    "        landmarkCoordinates = allLandmarkCoordinates[x, :]\n",
    "        ratios = []\n",
    "        for i in range(0, len(pointIndices1)):\n",
    "            x1 = landmarkCoordinates[2*(pointIndices1[i]-1)]\n",
    "            y1 = landmarkCoordinates[2*pointIndices1[i]-1]\n",
    "            x2 = landmarkCoordinates[2*(pointIndices2[i]-1)]\n",
    "            y2 = landmarkCoordinates[2*pointIndices2[i]-1]\n",
    "            x3 = landmarkCoordinates[2*(pointIndices3[i]-1)]\n",
    "            y3 = landmarkCoordinates[2*pointIndices3[i]-1]\n",
    "            x4 = landmarkCoordinates[2*(pointIndices4[i]-1)]\n",
    "            y4 = landmarkCoordinates[2*pointIndices4[i]-1]   \n",
    "\n",
    "            points = [x1, y1, x2, y2, x3, y3, x4, y4]\n",
    "            ratios.append(facialRatio(points))\n",
    "        allFeatures[x, :] = np.asarray(ratios)\n",
    "    return allFeatures"
   ]
  },
  {
   "cell_type": "code",
   "execution_count": 8,
   "metadata": {},
   "outputs": [],
   "source": [
    "def generateAllFeatures(allLandmarkCoordinates):\n",
    "    a = [18, 22, 23, 27, 37, 40, 43, 46, 28, 32, 34, 36, 5, 9, 13, 49, 55, 52, 58]\n",
    "    combinations = itertools.combinations(a, 4)\n",
    "    i = 0\n",
    "    pointIndices1 = []\n",
    "    pointIndices2 = []\n",
    "    pointIndices3 = []\n",
    "    pointIndices4 = []\n",
    "\n",
    "    for combination in combinations:\n",
    "        pointIndices1.append(combination[0])\n",
    "        pointIndices2.append(combination[1])\n",
    "        pointIndices3.append(combination[2])\n",
    "        pointIndices4.append(combination[3])\n",
    "        i += 1\n",
    "        pointIndices1.append(combination[0])\n",
    "        pointIndices2.append(combination[1])\n",
    "        pointIndices3.append(combination[2])\n",
    "        pointIndices4.append(combination[3])\n",
    "        i += 1\n",
    "        pointIndices1.append(combination[0])\n",
    "        pointIndices2.append(combination[1])\n",
    "        pointIndices3.append(combination[2])\n",
    "        pointIndices4.append(combination[3])\n",
    "        i += 1\n",
    "    \n",
    "    return generateFeatures(pointIndices1, pointIndices2, pointIndices3, pointIndices4, allLandmarkCoordinates)"
   ]
  },
  {
   "cell_type": "code",
   "execution_count": 9,
   "metadata": {},
   "outputs": [],
   "source": [
    "landmarks = np.loadtxt(\"D:\\VS\\MyMachineGotEyes\\Facial Attractiveness\\data\\landmarks.txt\", delimiter=\",\", usecols=range(136))\n",
    "\n",
    "featuresALL = generateAllFeatures(landmarks)\n",
    "np.savetxt(\"features_ALL.txt\", featuresALL, delimiter=\",\", fmt= \"%.04f\")\n",
    "\n",
    "#pointIndices1 = [20, 20, 45, 45]\n",
    "#pointIndices2 = [58, 9, 58, 58]\n",
    "#pointIndices3 = [5, 7, 5, 32]\n",
    "#pointIndices4 = [13, 13, 11, 36]\n",
    "#features = generateFeatures(pointIndices1, pointIndices2, pointIndices3, pointIndices4, landmarks)"
   ]
  },
  {
   "cell_type": "code",
   "execution_count": null,
   "metadata": {},
   "outputs": [],
   "source": []
  }
 ]
}