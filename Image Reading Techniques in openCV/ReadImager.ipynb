{
 "metadata": {
  "language_info": {
   "codemirror_mode": {
    "name": "ipython",
    "version": 3
   },
   "file_extension": ".py",
   "mimetype": "text/x-python",
   "name": "python",
   "nbconvert_exporter": "python",
   "pygments_lexer": "ipython3",
   "version": "3.9.2"
  },
  "orig_nbformat": 2,
  "kernelspec": {
   "name": "python392jvsc74a57bd033dc6d49505b4536b6a128d9d7c879e1fa44477ad44947bbbe73093067fe6393",
   "display_name": "Python 3.9.2 64-bit"
  },
  "metadata": {
   "interpreter": {
    "hash": "33dc6d49505b4536b6a128d9d7c879e1fa44477ad44947bbbe73093067fe6393"
   }
  }
 },
 "nbformat": 4,
 "nbformat_minor": 2,
 "cells": [
  {
   "source": [
    "Importing Standard Library"
   ],
   "cell_type": "markdown",
   "metadata": {}
  },
  {
   "cell_type": "code",
   "execution_count": 1,
   "metadata": {},
   "outputs": [],
   "source": [
    "import cv2"
   ]
  },
  {
   "source": [
    "Read 8-bit grayscale image"
   ],
   "cell_type": "markdown",
   "metadata": {}
  },
  {
   "cell_type": "code",
   "execution_count": 4,
   "metadata": {},
   "outputs": [
    {
     "output_type": "stream",
     "name": "stdout",
     "text": [
      "flags: cv2.IMREAD_GRAYSCALE\nSize (400, 650), type uint8\n\n"
     ]
    }
   ],
   "source": [
    "img = cv2.imread(\".\\\\JnA.jpg\", cv2.IMREAD_GRAYSCALE)\n",
    "print(\"flags: cv2.IMREAD_GRAYSCALE\")\n",
    "print(f\"Size {img.shape}, type {img.dtype}\\n\")"
   ]
  },
  {
   "source": [
    "Read 8-bit color image"
   ],
   "cell_type": "markdown",
   "metadata": {}
  },
  {
   "cell_type": "code",
   "execution_count": 5,
   "metadata": {},
   "outputs": [
    {
     "output_type": "stream",
     "name": "stdout",
     "text": [
      "flags : cv2.IMREAD_COLOR\nSize (400, 650, 3), type uint8\n"
     ]
    }
   ],
   "source": [
    "img = cv2.imread(\".\\\\JnA.jpg\", cv2.IMREAD_COLOR)\n",
    "print(\"flags : cv2.IMREAD_COLOR\")\n",
    "print(f\"Size {img.shape}, type {img.dtype}\")"
   ]
  },
  {
   "source": [
    "Read 16-bit color image"
   ],
   "cell_type": "markdown",
   "metadata": {}
  },
  {
   "cell_type": "code",
   "execution_count": 9,
   "metadata": {},
   "outputs": [
    {
     "output_type": "stream",
     "name": "stdout",
     "text": [
      "flags: cv2.IMREAD_ANYCOLOR\nSize (400, 650, 3), type uint8\n"
     ]
    }
   ],
   "source": [
    "img - cv2.imread(\".\\\\JnA.jpg\", cv2.IMREAD_ANYCOLOR | cv2.IMREAD_ANYDEPTH)\n",
    "print(\"flags: cv2.IMREAD_ANYCOLOR\")\n",
    "print(f\"Size {img.shape}, type {img.dtype}\")"
   ]
  },
  {
   "source": [
    "Read transparent images"
   ],
   "cell_type": "markdown",
   "metadata": {}
  },
  {
   "cell_type": "code",
   "execution_count": 10,
   "metadata": {},
   "outputs": [
    {
     "output_type": "stream",
     "name": "stdout",
     "text": [
      "flags : cv2.IMREAD_UNCHANGED\nSize (400, 650, 3), type uint8\n"
     ]
    }
   ],
   "source": [
    "img = cv2.imread(\".\\\\JnA.jpg\", cv2.IMREAD_UNCHANGED)\n",
    "print(\"flags : cv2.IMREAD_UNCHANGED\")\n",
    "print(f\"Size {img.shape}, type {img.dtype}\")"
   ]
  },
  {
   "cell_type": "code",
   "execution_count": null,
   "metadata": {},
   "outputs": [],
   "source": []
  }
 ]
}