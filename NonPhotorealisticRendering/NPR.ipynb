{
 "metadata": {
  "language_info": {
   "codemirror_mode": {
    "name": "ipython",
    "version": 3
   },
   "file_extension": ".py",
   "mimetype": "text/x-python",
   "name": "python",
   "nbconvert_exporter": "python",
   "pygments_lexer": "ipython3",
   "version": "3.9.2"
  },
  "orig_nbformat": 2,
  "kernelspec": {
   "name": "python392jvsc74a57bd033dc6d49505b4536b6a128d9d7c879e1fa44477ad44947bbbe73093067fe6393",
   "display_name": "Python 3.9.2 64-bit"
  },
  "metadata": {
   "interpreter": {
    "hash": "33dc6d49505b4536b6a128d9d7c879e1fa44477ad44947bbbe73093067fe6393"
   }
  }
 },
 "nbformat": 4,
 "nbformat_minor": 2,
 "cells": [
  {
   "source": [
    "Importing Standard Libraries"
   ],
   "cell_type": "markdown",
   "metadata": {}
  },
  {
   "cell_type": "code",
   "execution_count": 1,
   "metadata": {},
   "outputs": [],
   "source": [
    "import cv2"
   ]
  },
  {
   "source": [
    "Reading image "
   ],
   "cell_type": "markdown",
   "metadata": {}
  },
  {
   "cell_type": "code",
   "execution_count": 2,
   "metadata": {},
   "outputs": [],
   "source": [
    "img = cv2.imread(\".\\\\Amy.jpg\")"
   ]
  },
  {
   "source": [
    "Edge Preserving Filter with two different flags"
   ],
   "cell_type": "markdown",
   "metadata": {}
  },
  {
   "cell_type": "code",
   "execution_count": 4,
   "metadata": {},
   "outputs": [
    {
     "output_type": "execute_result",
     "data": {
      "text/plain": [
       "True"
      ]
     },
     "metadata": {},
     "execution_count": 4
    }
   ],
   "source": [
    "imgout = cv2.edgePreservingFilter(img, flags=cv2.RECURS_FILTER)\n",
    "cv2.imwrite(\"edge-preserving-recursive filter.jpeg\", imgout)\n",
    "\n",
    "imgout = cv2.edgePreservingFilter(img, flags=cv2.NORMCONV_FILTER)\n",
    "cv2.imwrite(\"edge-preserving-normalised-convolution-filter.jpeg\", imgout)"
   ]
  },
  {
   "source": [
    "Detail Enhance Filter"
   ],
   "cell_type": "markdown",
   "metadata": {}
  },
  {
   "cell_type": "code",
   "execution_count": 5,
   "metadata": {},
   "outputs": [
    {
     "output_type": "execute_result",
     "data": {
      "text/plain": [
       "True"
      ]
     },
     "metadata": {},
     "execution_count": 5
    }
   ],
   "source": [
    "imgout = cv2.detailEnhance(img)\n",
    "cv2.imwrite(\"detail-enhanced.jpeg\", imgout)"
   ]
  },
  {
   "source": [
    "Pencil Sketch Filter"
   ],
   "cell_type": "markdown",
   "metadata": {}
  },
  {
   "cell_type": "code",
   "execution_count": 8,
   "metadata": {},
   "outputs": [
    {
     "output_type": "execute_result",
     "data": {
      "text/plain": [
       "True"
      ]
     },
     "metadata": {},
     "execution_count": 8
    }
   ],
   "source": [
    "img_gray, imgout = cv2.pencilSketch(img, sigma_s=60, sigma_r=0.7, shade_factor=0.05)\n",
    "cv2.imwrite(\"pencil-sketch.jpeg\", img_gray)\n",
    "cv2.imwrite(\"pencil-sketch-color.jpeg\", imgout)"
   ]
  },
  {
   "source": [
    "Stylization filter"
   ],
   "cell_type": "markdown",
   "metadata": {}
  },
  {
   "cell_type": "code",
   "execution_count": 7,
   "metadata": {},
   "outputs": [
    {
     "output_type": "execute_result",
     "data": {
      "text/plain": [
       "True"
      ]
     },
     "metadata": {},
     "execution_count": 7
    }
   ],
   "source": [
    "cv2.stylization(img, imgout)\n",
    "cv2.imwrite(\"stylization.jpeg\", imgout)"
   ]
  },
  {
   "cell_type": "code",
   "execution_count": null,
   "metadata": {},
   "outputs": [],
   "source": []
  }
 ]
}